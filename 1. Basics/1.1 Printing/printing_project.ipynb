{
  "nbformat": 4,
  "nbformat_minor": 0,
  "metadata": {
    "interpreter": {
      "hash": "fd61235da8d855c081cbd5d7c6398e4c179a40a950675235256f7f30499f1124"
    },
    "kernelspec": {
      "display_name": "Python 3.7.4 64-bit",
      "name": "python3"
    },
    "language_info": {
      "codemirror_mode": {
        "name": "ipython",
        "version": 3
      },
      "file_extension": ".py",
      "mimetype": "text/x-python",
      "name": "python",
      "nbconvert_exporter": "python",
      "pygments_lexer": "ipython3",
      "version": "3.7.4"
    },
    "orig_nbformat": 4,
    "colab": {
      "name": "printing_project.ipynb",
      "provenance": []
    }
  },
  "cells": [
    {
      "cell_type": "markdown",
      "metadata": {
        "id": "hZMpbGGVKB9_"
      },
      "source": [
        "# Printing Project\n",
        "\n",
        "Below is a series of tasks to complete to help you understand how printing works"
      ]
    },
    {
      "cell_type": "markdown",
      "metadata": {
        "id": "R0ZnPM0DKB-F"
      },
      "source": [
        "# Task 1\n",
        "This task is fairly simple. All you need to do is print your name and your age."
      ]
    },
    {
      "cell_type": "code",
      "metadata": {
        "id": "oBUK3txkKB-G",
        "outputId": "a222009f-91d3-47ef-86c6-0ba83832bf56",
        "colab": {
          "base_uri": "https://localhost:8080/"
        }
      },
      "source": [
        "# Code goes her\n",
        "print(\"Sabrina\", \"14\", \"Raasin\")"
      ],
      "execution_count": 1,
      "outputs": [
        {
          "output_type": "stream",
          "name": "stdout",
          "text": [
            "Sabrina 14 Raasin\n"
          ]
        }
      ]
    },
    {
      "cell_type": "markdown",
      "metadata": {
        "id": "woYovNwnKB-H"
      },
      "source": [
        "# Task 2\n",
        "print your name and age using 2 print function arguments.\n",
        "<p><em>Remember, print statement arguments are separated by commas.</em></p>\n",
        "\n",
        "```python \n",
        "#expected output#\n",
        "\" 'your_name' 'your_age' \"\n",
        "```"
      ]
    },
    {
      "cell_type": "code",
      "metadata": {
        "id": "bLFCRQx9KB-I",
        "outputId": "ab4ce98d-4ff5-48e5-8176-f36ccbaac447",
        "colab": {
          "base_uri": "https://localhost:8080/",
          "height": 35
        }
      },
      "source": [
        "# Code goes here\n",
        "\"'Sabrina' '14'\""
      ],
      "execution_count": 2,
      "outputs": [
        {
          "output_type": "execute_result",
          "data": {
            "application/vnd.google.colaboratory.intrinsic+json": {
              "type": "string"
            },
            "text/plain": [
              "\"'Sabrina' '14'\""
            ]
          },
          "metadata": {},
          "execution_count": 2
        }
      ]
    },
    {
      "cell_type": "markdown",
      "metadata": {
        "id": "iBkkUC6gKB-I"
      },
      "source": [
        "# Task 3\n",
        "print your name and age using 2 print function arguments, separated by a colon.\n",
        "\n",
        "```python \n",
        "#expected output#\n",
        "\" 'your_name':'your_age' \"\n",
        "```"
      ]
    },
    {
      "cell_type": "code",
      "metadata": {
        "id": "tJNVxdR_KB-J"
      },
      "source": [
        "# Code goes here\n",
        "\" 'Sabrina':'14' \""
      ],
      "execution_count": null,
      "outputs": []
    },
    {
      "cell_type": "markdown",
      "metadata": {
        "id": "gcKrRYpIKB-J"
      },
      "source": [
        "# Task 4\n",
        "print your favorite food and dessert separated by a colon.\n",
        "\n",
        "```python \n",
        "#expected output#\n",
        "\"my favorite food is 'your_food':'your_dessert' \"\n",
        "```"
      ]
    },
    {
      "cell_type": "code",
      "metadata": {
        "id": "uzfp58I4KB-K",
        "outputId": "8e1af9c4-7aa4-4a8e-eb11-fd3df26db0e2",
        "colab": {
          "base_uri": "https://localhost:8080/",
          "height": 35
        }
      },
      "source": [
        "# Code goes here\n",
        "\"my favorite food is 'pancakes':'ice cream' \""
      ],
      "execution_count": 3,
      "outputs": [
        {
          "output_type": "execute_result",
          "data": {
            "application/vnd.google.colaboratory.intrinsic+json": {
              "type": "string"
            },
            "text/plain": [
              "\"my favorite food is 'pancakes':'ice cream' \""
            ]
          },
          "metadata": {},
          "execution_count": 3
        }
      ]
    },
    {
      "cell_type": "markdown",
      "metadata": {
        "id": "Z9-qJIVrKB-K"
      },
      "source": [
        "# Task 5\n",
        "Produce the following using separators.\n",
        "\n",
        "```python\n",
        "\"Wow I cant belive I am a: 'your_grade' in high school\"\n",
        "```\n"
      ]
    },
    {
      "cell_type": "code",
      "metadata": {
        "id": "-OV6CcGVKB-L",
        "outputId": "9377a252-bb65-4e68-dbd1-31e669a970ec",
        "colab": {
          "base_uri": "https://localhost:8080/",
          "height": 35
        }
      },
      "source": [
        "# Code goes here\n",
        "\"Wow I cant belive I am a: 'freshmen' in high school\""
      ],
      "execution_count": 4,
      "outputs": [
        {
          "output_type": "execute_result",
          "data": {
            "application/vnd.google.colaboratory.intrinsic+json": {
              "type": "string"
            },
            "text/plain": [
              "\"Wow I cant belive I am a: 'freshmen' in high school\""
            ]
          },
          "metadata": {},
          "execution_count": 4
        }
      ]
    },
    {
      "cell_type": "markdown",
      "metadata": {
        "id": "7wPdENvbKB-L"
      },
      "source": [
        "# Task 6\n",
        "Edit the code in order to print everything in a single line"
      ]
    },
    {
      "cell_type": "code",
      "metadata": {
        "id": "j_WldyecKB-L",
        "outputId": "a58abf6d-3936-4e8c-84b3-70f640502586",
        "colab": {
          "base_uri": "https://localhost:8080/"
        }
      },
      "source": [
        "# code goes here\n",
        "print(\"Bruh, I am so bored right know🤦🏾‍♀️\")\n",
        "var = \" rainy days are boring\"\n",
        "print(var)"
      ],
      "execution_count": 5,
      "outputs": [
        {
          "output_type": "stream",
          "name": "stdout",
          "text": [
            "Bruh, I am so bored right know🤦🏾‍♀️\n",
            " rainy days are boring\n"
          ]
        }
      ]
    },
    {
      "cell_type": "markdown",
      "metadata": {
        "id": "WmmVz5qWKB-M"
      },
      "source": [
        "# Task 7\n",
        "Edit the code to print the values using an f-string"
      ]
    },
    {
      "cell_type": "code",
      "metadata": {
        "id": "AFYH854wKB-M",
        "outputId": "1058c853-c2b7-4c40-8e2b-f7683c7663ed",
        "colab": {
          "base_uri": "https://localhost:8080/"
        }
      },
      "source": [
        "# Code goes here\n",
        "animal = 'Monster'\n",
        "show = \"sesame street\"\n",
        "print(\"How old is that\", animal, \"from\", show, \"?\")"
      ],
      "execution_count": 8,
      "outputs": [
        {
          "output_type": "stream",
          "name": "stdout",
          "text": [
            "How old is that Monster from sesame street ?\n"
          ]
        }
      ]
    },
    {
      "cell_type": "markdown",
      "metadata": {
        "id": "AeGFW-u2KB-N"
      },
      "source": [
        "# Task 8\n",
        "Use an f-string to print the name of your school, what grade you're in and your favorite thing for lunch\n",
        "\n",
        "```python \n",
        "#expected output#\n",
        "\"My name is 'your_name' and I am in 'your_grade'. My favorite thing for lunch is 'fav_lunch'.\"\n",
        "```"
      ]
    },
    {
      "cell_type": "code",
      "metadata": {
        "id": "LgdsfHzEKB-N",
        "outputId": "53dc7d99-2dc4-4b73-d9b1-36a064254baf",
        "colab": {
          "base_uri": "https://localhost:8080/",
          "height": 35
        }
      },
      "source": [
        "# Code goes here\n",
        "name = 'Sabrina'\n",
        "school = 'Washburn high school'\n",
        "grade = '9th grade'\n",
        "fav_lunch = 'Burgers'\n",
        "\"My name is 'Sabrina' and I am in '(thgrade'. My favorite thing for lunch is 'fav_lunch'.\"\n"
      ],
      "execution_count": 14,
      "outputs": [
        {
          "output_type": "execute_result",
          "data": {
            "application/vnd.google.colaboratory.intrinsic+json": {
              "type": "string"
            },
            "text/plain": [
              "\"My name is 'name' and I am in 'your_grade'. My favorite thing for lunch is 'fav_lunch'.\""
            ]
          },
          "metadata": {},
          "execution_count": 14
        }
      ]
    },
    {
      "cell_type": "markdown",
      "metadata": {
        "id": "BJGCLN5CKB-O"
      },
      "source": [
        "# TASK 9\n",
        "Use the escape character `\\n` to print the following string.\n",
        "\n",
        "> If I had a million dollars\n",
        "\n",
        "> I'd spend it on `'What ever you would spend it on goes here'`"
      ]
    },
    {
      "cell_type": "code",
      "metadata": {
        "id": "cFc9T1oaKB-O"
      },
      "source": [
        "#TODO"
      ],
      "execution_count": null,
      "outputs": []
    },
    {
      "cell_type": "markdown",
      "metadata": {
        "id": "v_36ciN8KB-O"
      },
      "source": [
        "# TASK 10\n",
        "Use the escape character `\\n` to print the following.\n",
        "\n",
        ">do"
      ]
    }
  ]
}