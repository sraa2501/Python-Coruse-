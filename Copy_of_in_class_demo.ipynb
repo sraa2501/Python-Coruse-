{
  "nbformat": 4,
  "nbformat_minor": 0,
  "metadata": {
    "interpreter": {
      "hash": "fd61235da8d855c081cbd5d7c6398e4c179a40a950675235256f7f30499f1124"
    },
    "kernelspec": {
      "display_name": "Python 3.7.4 64-bit ('base': conda)",
      "name": "python3"
    },
    "language_info": {
      "codemirror_mode": {
        "name": "ipython",
        "version": 3
      },
      "file_extension": ".py",
      "mimetype": "text/x-python",
      "name": "python",
      "nbconvert_exporter": "python",
      "pygments_lexer": "ipython3",
      "version": "3.7.4"
    },
    "orig_nbformat": 4,
    "colab": {
      "name": "Copy of in_class_demo.ipynb",
      "provenance": [],
      "include_colab_link": true
    }
  },
  "cells": [
    {
      "cell_type": "markdown",
      "metadata": {
        "id": "view-in-github",
        "colab_type": "text"
      },
      "source": [
        "<a href=\"https://colab.research.google.com/github/sraa2501/Python-Coruse-/blob/main/Copy_of_in_class_demo.ipynb\" target=\"_parent\"><img src=\"https://colab.research.google.com/assets/colab-badge.svg\" alt=\"Open In Colab\"/></a>"
      ]
    },
    {
      "cell_type": "markdown",
      "metadata": {
        "id": "dDyli6kgxkYJ"
      },
      "source": [
        "# Type Conversion\n",
        "The process of converting the value of one data type (integer, string, float, etc.) to another data type is called type conversion. Python has two types of type conversion.\n",
        "\n",
        "* Implicit Type Conversion\n",
        "* Explicit Type Conversion\n",
        "\n",
        "## Implicit Type Conversion\n",
        "In Implicit type conversion, Python automatically converts one data type to another data type. This process doesn't need any user involvement.\n",
        "\n",
        "Let's see an example where Python promotes the conversion of the lower data type (integer) to the higher data type (float) to avoid data loss."
      ]
    },
    {
      "cell_type": "code",
      "metadata": {
        "id": "A5SOPNQsxkYP"
      },
      "source": [
        "var = 20\n",
        "var2 = 1.15\n",
        "val = var + var2\n",
        "\n",
        "print(f\"Type of var: {type(var)}.    Value: {var}\")\n",
        "print(f\"Type of var2: {type(var2)}. Value: {var2}\")\n",
        "print(f\"Type of val: {type(val)}.  Value: {val}\")\n"
      ],
      "execution_count": null,
      "outputs": []
    },
    {
      "cell_type": "markdown",
      "metadata": {
        "id": "rixdKOFbxkYQ"
      },
      "source": [
        "**Lets see another example with string and an int**"
      ]
    },
    {
      "cell_type": "code",
      "metadata": {
        "id": "p9Lx9Vi1xkYR"
      },
      "source": [
        "var = 23\n",
        "var2 = \"43\"\n",
        "val = var + var2\n",
        "\n",
        "print(f\"Type of var: {type(var)}. Value: {var}\")\n",
        "print(f\"Type of var2: {type(var2)}. Value: {var2}\")\n",
        "print(f\"Type of val: {type(val)}. Value: {val}\")\n"
      ],
      "execution_count": null,
      "outputs": []
    },
    {
      "cell_type": "markdown",
      "metadata": {
        "id": "73jCxrqUxkYR"
      },
      "source": [
        "**Unfortunately, python isn't able to perform the addition of a string and an int because the data types can't be implicitly converted. So lets look at a method for explicitly converting data types so that we can do these types of operations**\n",
        "\n",
        "# Explicit conversions\n",
        "\n",
        "This means to change the type of an object to the required data type by using predefined functions like int(), float(), str(), etc to perform explicit type conversion.\n",
        "\n",
        "***This type of conversion is also called typecasting because the user casts (changes) the data type of the objects.***"
      ]
    },
    {
      "cell_type": "code",
      "metadata": {
        "id": "6mXNl555xkYS",
        "colab": {
          "base_uri": "https://localhost:8080/",
          "height": 283
        },
        "outputId": "6f647f9d-49b8-4de0-ba90-ef4758fed519"
      },
      "source": [
        "var=20\n",
        "var2=\"30\"\n",
        "\n",
        "\n",
        "\n",
        "print(f\"Type of var: {type(var)}.  Value: {var}\")\n",
        "print(f\"Type of var2: {type(var2)}. Value: {var2}\\n\")\n",
        "\n",
        "#TODO: convert a string to an int and add the values\n",
        "var= int(var2)\n",
        "var+var2\n",
        "\n",
        "# print(f\"Type of var: {type(var)}.  Value: {var}\")\n",
        "# print(f\"Type of var2: {type(var2)}. Value: {var2}\")\n",
        "# print(f\"Type of val: {type(val)}.  Value: {val}\")\n",
        "\n",
        "\n"
      ],
      "execution_count": null,
      "outputs": [
        {
          "output_type": "stream",
          "name": "stdout",
          "text": [
            "Type of var: <class 'int'>.  Value: 20\n",
            "Type of var2: <class 'str'>. Value: 30\n",
            "\n"
          ]
        },
        {
          "output_type": "error",
          "ename": "TypeError",
          "evalue": "ignored",
          "traceback": [
            "\u001b[0;31m---------------------------------------------------------------------------\u001b[0m",
            "\u001b[0;31mTypeError\u001b[0m                                 Traceback (most recent call last)",
            "\u001b[0;32m<ipython-input-3-b1fb55f6e006>\u001b[0m in \u001b[0;36m<module>\u001b[0;34m()\u001b[0m\n\u001b[1;32m      9\u001b[0m \u001b[0;31m#TODO: convert a string to an int and add the values\u001b[0m\u001b[0;34m\u001b[0m\u001b[0;34m\u001b[0m\u001b[0;34m\u001b[0m\u001b[0m\n\u001b[1;32m     10\u001b[0m \u001b[0mvar\u001b[0m\u001b[0;34m=\u001b[0m \u001b[0mint\u001b[0m\u001b[0;34m(\u001b[0m\u001b[0mvar2\u001b[0m\u001b[0;34m)\u001b[0m\u001b[0;34m\u001b[0m\u001b[0;34m\u001b[0m\u001b[0m\n\u001b[0;32m---> 11\u001b[0;31m \u001b[0mvar\u001b[0m\u001b[0;34m+\u001b[0m\u001b[0mvar2\u001b[0m\u001b[0;34m\u001b[0m\u001b[0;34m\u001b[0m\u001b[0m\n\u001b[0m\u001b[1;32m     12\u001b[0m \u001b[0;34m\u001b[0m\u001b[0m\n\u001b[1;32m     13\u001b[0m \u001b[0;31m# print(f\"Type of var: {type(var)}.  Value: {var}\")\u001b[0m\u001b[0;34m\u001b[0m\u001b[0;34m\u001b[0m\u001b[0;34m\u001b[0m\u001b[0m\n",
            "\u001b[0;31mTypeError\u001b[0m: unsupported operand type(s) for +: 'int' and 'str'"
          ]
        }
      ]
    },
    {
      "cell_type": "markdown",
      "metadata": {
        "id": "ZFscz_UYxkYS"
      },
      "source": [
        "## Allowable conversions\n",
        "- int -> str \n",
        "- int -> float \n",
        "#\n",
        "- float -> int\n",
        "- float -> str\n",
        "#\n",
        "- str -> int (if the string is a number)\n",
        "- str -> float (if the string is a number)\n",
        "- str -> list \n",
        "- str -> tuple\n",
        "#\n",
        "- list -> tuple \n",
        "- list -> set \n",
        "- list -> str\n",
        "#\n",
        "- tuple -> list \n",
        "- tuple -> set\n",
        "- tuple -> str"
      ]
    },
    {
      "cell_type": "code",
      "metadata": {
        "id": "J6KdtI5axkYT",
        "colab": {
          "base_uri": "https://localhost:8080/"
        },
        "outputId": "daf261f3-dd10-4609-a4c1-90d37c671b8f"
      },
      "source": [
        "var=10.953\n",
        "int(var)\n",
        "var=int(var)\n",
        "float(var)\n"
      ],
      "execution_count": null,
      "outputs": [
        {
          "output_type": "execute_result",
          "data": {
            "text/plain": [
              "10.0"
            ]
          },
          "metadata": {},
          "execution_count": 10
        }
      ]
    },
    {
      "cell_type": "code",
      "metadata": {
        "id": "TvAq45YYxkYU",
        "colab": {
          "base_uri": "https://localhost:8080/"
        },
        "outputId": "a4f56d35-b8cc-4f81-ea20-a72cb678285b"
      },
      "source": [
        "var=\"67.999\"\n",
        "var=float(var)\n",
        "var"
      ],
      "execution_count": null,
      "outputs": [
        {
          "output_type": "execute_result",
          "data": {
            "text/plain": [
              "67.999"
            ]
          },
          "metadata": {},
          "execution_count": 12
        }
      ]
    },
    {
      "cell_type": "code",
      "metadata": {
        "id": "DYv4owxHxkYU",
        "colab": {
          "base_uri": "https://localhost:8080/"
        },
        "outputId": "7e7fdf46-138b-4275-bf3d-25a5a31d1647"
      },
      "source": [
        "var=\"25\"\n",
        "v= int(var[0])\n",
        "x= int(var[1])\n",
        "v + x"
      ],
      "execution_count": null,
      "outputs": [
        {
          "output_type": "execute_result",
          "data": {
            "text/plain": [
              "7"
            ]
          },
          "metadata": {},
          "execution_count": 18
        }
      ]
    },
    {
      "cell_type": "code",
      "metadata": {
        "id": "qRvV8ufq3efa",
        "colab": {
          "base_uri": "https://localhost:8080/"
        },
        "outputId": "3ce8e7db-7da1-41bc-fdbc-a9e3a94f4d18"
      },
      "source": [
        "var=\"washburn\"\n",
        "var= list(var)\n",
        "type(var), var"
      ],
      "execution_count": null,
      "outputs": [
        {
          "output_type": "execute_result",
          "data": {
            "text/plain": [
              "(list, ['w', 'a', 's', 'h', 'b', 'u', 'r', 'n'])"
            ]
          },
          "metadata": {},
          "execution_count": 19
        }
      ]
    },
    {
      "cell_type": "code",
      "metadata": {
        "id": "PND5MKR2xkYV",
        "colab": {
          "base_uri": "https://localhost:8080/"
        },
        "outputId": "e1a34767-2b21-4fba-89f4-97f404edaaf0"
      },
      "source": [
        "var=\"washburn\"\n",
        "var= list(var)\n",
        "type(var), var \n"
      ],
      "execution_count": null,
      "outputs": [
        {
          "output_type": "execute_result",
          "data": {
            "text/plain": [
              "(list, ['w', 'a', 's', 'h', 'b', 'u', 'r', 'n'])"
            ]
          },
          "metadata": {},
          "execution_count": 22
        }
      ]
    },
    {
      "cell_type": "code",
      "metadata": {
        "id": "U44hlTBYxkYV",
        "colab": {
          "base_uri": "https://localhost:8080/"
        },
        "outputId": "694ac41d-16d5-4983-c41f-0e8e177c236a"
      },
      "source": [
        "var= [1,2,3,4]\n",
        "var= str(var)\n",
        "var, type(var)\n"
      ],
      "execution_count": null,
      "outputs": [
        {
          "output_type": "execute_result",
          "data": {
            "text/plain": [
              "('[1, 2, 3, 4]', str)"
            ]
          },
          "metadata": {},
          "execution_count": 24
        }
      ]
    },
    {
      "cell_type": "code",
      "metadata": {
        "id": "xuM_DBN1xkYV",
        "colab": {
          "base_uri": "https://localhost:8080/"
        },
        "outputId": "76003264-d62a-4373-8f51-47cbd36bf808"
      },
      "source": [
        "var= [1 ,2 ,3 ,4]\n",
        "var= str(var)\n",
        "var, type(var)"
      ],
      "execution_count": null,
      "outputs": [
        {
          "output_type": "execute_result",
          "data": {
            "text/plain": [
              "('[1, 2, 3, 4]', str)"
            ]
          },
          "metadata": {},
          "execution_count": 25
        }
      ]
    },
    {
      "cell_type": "code",
      "metadata": {
        "id": "qfggBAycxkYW",
        "colab": {
          "base_uri": "https://localhost:8080/",
          "height": 215
        },
        "outputId": "d22d2790-c340-4cb0-8ca0-93ef1f0db305"
      },
      "source": [
        "#TODO: Convert a list to a tuple\n",
        "var= [1,2,3,4,5]\n",
        "var=tuple(var)\n",
        "var[0] = 45\n",
        "var, type(var)"
      ],
      "execution_count": null,
      "outputs": [
        {
          "output_type": "error",
          "ename": "TypeError",
          "evalue": "ignored",
          "traceback": [
            "\u001b[0;31m---------------------------------------------------------------------------\u001b[0m",
            "\u001b[0;31mTypeError\u001b[0m                                 Traceback (most recent call last)",
            "\u001b[0;32m<ipython-input-27-6cf7a32abdf6>\u001b[0m in \u001b[0;36m<module>\u001b[0;34m()\u001b[0m\n\u001b[1;32m      2\u001b[0m \u001b[0mvar\u001b[0m\u001b[0;34m=\u001b[0m \u001b[0;34m[\u001b[0m\u001b[0;36m1\u001b[0m\u001b[0;34m,\u001b[0m\u001b[0;36m2\u001b[0m\u001b[0;34m,\u001b[0m\u001b[0;36m3\u001b[0m\u001b[0;34m,\u001b[0m\u001b[0;36m4\u001b[0m\u001b[0;34m,\u001b[0m\u001b[0;36m5\u001b[0m\u001b[0;34m]\u001b[0m\u001b[0;34m\u001b[0m\u001b[0;34m\u001b[0m\u001b[0m\n\u001b[1;32m      3\u001b[0m \u001b[0mvar\u001b[0m\u001b[0;34m=\u001b[0m\u001b[0mtuple\u001b[0m\u001b[0;34m(\u001b[0m\u001b[0mvar\u001b[0m\u001b[0;34m)\u001b[0m\u001b[0;34m\u001b[0m\u001b[0;34m\u001b[0m\u001b[0m\n\u001b[0;32m----> 4\u001b[0;31m \u001b[0mvar\u001b[0m\u001b[0;34m[\u001b[0m\u001b[0;36m0\u001b[0m\u001b[0;34m]\u001b[0m \u001b[0;34m=\u001b[0m \u001b[0;36m45\u001b[0m\u001b[0;34m\u001b[0m\u001b[0;34m\u001b[0m\u001b[0m\n\u001b[0m\u001b[1;32m      5\u001b[0m \u001b[0mvar\u001b[0m\u001b[0;34m,\u001b[0m \u001b[0mtype\u001b[0m\u001b[0;34m(\u001b[0m\u001b[0mvar\u001b[0m\u001b[0;34m)\u001b[0m\u001b[0;34m\u001b[0m\u001b[0;34m\u001b[0m\u001b[0m\n",
            "\u001b[0;31mTypeError\u001b[0m: 'tuple' object does not support item assignment"
          ]
        }
      ]
    },
    {
      "cell_type": "markdown",
      "metadata": {
        "id": "VgKa71IPxkYW"
      },
      "source": [
        "# User Input\n",
        "Sometimes in our programs, we want or expect the user to input some information that we can use in the rest of the program.\n",
        "\n",
        "To do this, python provides us with a function called `input()`."
      ]
    },
    {
      "cell_type": "code",
      "metadata": {
        "id": "Ban5S-wWxkYW",
        "colab": {
          "base_uri": "https://localhost:8080/",
          "height": 52
        },
        "outputId": "28a7def7-a1ea-49f7-eaaf-8a97296def02"
      },
      "source": [
        "#TODO: input your name\n",
        "name = input()\n",
        "name\n"
      ],
      "execution_count": null,
      "outputs": [
        {
          "name": "stdout",
          "output_type": "stream",
          "text": [
            "Sabrina\n"
          ]
        },
        {
          "output_type": "execute_result",
          "data": {
            "application/vnd.google.colaboratory.intrinsic+json": {
              "type": "string"
            },
            "text/plain": [
              "'Sabrina'"
            ]
          },
          "metadata": {},
          "execution_count": 29
        }
      ]
    },
    {
      "cell_type": "code",
      "metadata": {
        "id": "CvTsZS186tYE",
        "colab": {
          "base_uri": "https://localhost:8080/",
          "height": 35
        },
        "outputId": "3f7e9a40-8ae8-419d-9867-b5de1caf24be"
      },
      "source": [
        "name[3]"
      ],
      "execution_count": null,
      "outputs": [
        {
          "output_type": "execute_result",
          "data": {
            "application/vnd.google.colaboratory.intrinsic+json": {
              "type": "string"
            },
            "text/plain": [
              "'r'"
            ]
          },
          "metadata": {},
          "execution_count": 30
        }
      ]
    },
    {
      "cell_type": "markdown",
      "metadata": {
        "id": "ZtXRXgDbxkYX"
      },
      "source": [
        "## Prompt\n",
        "The `input` function can also be given a prompt so that the user knows what you want them to do."
      ]
    },
    {
      "cell_type": "code",
      "metadata": {
        "id": "pFU-fsdAxkYX",
        "colab": {
          "base_uri": "https://localhost:8080/"
        },
        "outputId": "1382c0db-5d02-4c0a-9f05-583ccaef138c"
      },
      "source": [
        "#TODO: Input your name using a prompt and print the type\n",
        "name = input(\"Enter your name: \")\n",
        "print(type(name))\n"
      ],
      "execution_count": null,
      "outputs": [
        {
          "output_type": "stream",
          "name": "stdout",
          "text": [
            "Enter your name: 22\n",
            "<class 'str'>\n"
          ]
        }
      ]
    },
    {
      "cell_type": "code",
      "metadata": {
        "id": "78QD6tHzxkYX",
        "colab": {
          "base_uri": "https://localhost:8080/"
        },
        "outputId": "59bd1e3e-50f4-4c01-9187-6d1c10a6078b"
      },
      "source": [
        "#TODO: Input your age using a prompt and print the type\n",
        "age = input(\"Enter your age\")\n",
        "(age)= int(age)\n",
        "print(type(age))"
      ],
      "execution_count": null,
      "outputs": [
        {
          "output_type": "stream",
          "name": "stdout",
          "text": [
            "Enter your age 14\n",
            "<class 'int'>\n"
          ]
        }
      ]
    },
    {
      "cell_type": "markdown",
      "metadata": {
        "id": "6moI4Es3xkYX"
      },
      "source": [
        "## All input are strings\n",
        "When using the `input()` function, all input is returned as a string. So when we enter a number, list, or tuple, we will need to convert it to the corresponding data type.\n",
        "\n",
        "**There are two ways to do this**\n",
        "* wrap the input function around the data type we want to convert to  \n",
        "* convert the variable after input is provided"
      ]
    },
    {
      "cell_type": "code",
      "metadata": {
        "id": "ggYv48SlxkYY",
        "colab": {
          "base_uri": "https://localhost:8080/"
        },
        "outputId": "5d164c76-b8d0-4c00-c1be-97231cb468b4"
      },
      "source": [
        "#TODO: wrap the input function around the data type\n",
        "age = int(input(\"Enter your age: \"))\n",
        "age\n"
      ],
      "execution_count": null,
      "outputs": [
        {
          "name": "stdout",
          "output_type": "stream",
          "text": [
            "Enter your age:  14\n"
          ]
        },
        {
          "output_type": "execute_result",
          "data": {
            "text/plain": [
              "14"
            ]
          },
          "metadata": {},
          "execution_count": 37
        }
      ]
    },
    {
      "cell_type": "code",
      "metadata": {
        "id": "TgRV698sxkYY"
      },
      "source": [
        "#TODO: Convert the variable after user input is given\n"
      ],
      "execution_count": null,
      "outputs": []
    }
  ]
}