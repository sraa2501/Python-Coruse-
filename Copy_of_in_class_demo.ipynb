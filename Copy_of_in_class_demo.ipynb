{
  "nbformat": 4,
  "nbformat_minor": 0,
  "metadata": {
    "interpreter": {
      "hash": "fd61235da8d855c081cbd5d7c6398e4c179a40a950675235256f7f30499f1124"
    },
    "kernelspec": {
      "display_name": "Python 3.7.4 64-bit ('base': conda)",
      "name": "python3"
    },
    "language_info": {
      "codemirror_mode": {
        "name": "ipython",
        "version": 3
      },
      "file_extension": ".py",
      "mimetype": "text/x-python",
      "name": "python",
      "nbconvert_exporter": "python",
      "pygments_lexer": "ipython3",
      "version": "3.7.4"
    },
    "orig_nbformat": 4,
    "colab": {
      "name": "Copy of in_class_demo.ipynb",
      "provenance": [],
      "include_colab_link": true
    }
  },
  "cells": [
    {
      "cell_type": "markdown",
      "metadata": {
        "id": "view-in-github",
        "colab_type": "text"
      },
      "source": [
        "<a href=\"https://colab.research.google.com/github/sraa2501/Python-Coruse-/blob/main/Copy_of_in_class_demo.ipynb\" target=\"_parent\"><img src=\"https://colab.research.google.com/assets/colab-badge.svg\" alt=\"Open In Colab\"/></a>"
      ]
    },
    {
      "cell_type": "markdown",
      "metadata": {
        "id": "vu7kYUmwEZ2p"
      },
      "source": [
        "# Print Function\n",
        "The print function is like a messenger. It can be used to show the current value of a variable, provide helper messages, or just to do further inspection of variables and functions.\n",
        "\n",
        "\n",
        "Think of it like a push notificaion for code.\n",
        "\n",
        "![image](https://i.imgflip.com/4ljdxs.png)\n",
        "\n",
        "## When to use it\n",
        "* Whenever you want to inspect the value of a variable in your code\n",
        "* Whenever you have some message that you want to display \n",
        "* During debugging to make sure values are correct\n",
        "\n",
        "## What can it print?\n",
        "Basically anything. Anything you pass to the print function will get displayed on the screen, as long as it follows python syntax.\n",
        "\n"
      ]
    },
    {
      "cell_type": "code",
      "metadata": {
        "id": "BxuBdl1nEZ2t",
        "colab": {
          "base_uri": "https://localhost:8080/"
        },
        "outputId": "91618d39-35d2-46fd-87ce-92e521c36d16"
      },
      "source": [
        "# Pass a message that you want to display\n",
        "print(\"Nah he tweakin 🤦🏾‍♀️\")"
      ],
      "execution_count": null,
      "outputs": [
        {
          "output_type": "stream",
          "name": "stdout",
          "text": [
            "Nah he tweakin 🤦🏾‍♀️\n"
          ]
        }
      ]
    },
    {
      "cell_type": "code",
      "metadata": {
        "id": "0STyhvA2EZ2v",
        "colab": {
          "base_uri": "https://localhost:8080/"
        },
        "outputId": "7aa03fef-22d2-4cc1-80a3-29e54aa8f032"
      },
      "source": [
        "# you can print multiple values at once\n",
        "print(\"Sabrina\", \"14\", \"Raasin\")"
      ],
      "execution_count": null,
      "outputs": [
        {
          "output_type": "stream",
          "name": "stdout",
          "text": [
            "Sabrina 14 Raasin\n"
          ]
        }
      ]
    },
    {
      "cell_type": "code",
      "metadata": {
        "id": "M2jN71EEEZ2v",
        "colab": {
          "base_uri": "https://localhost:8080/"
        },
        "outputId": "1d2a4a46-5273-49f1-fc73-b3efa256a5b4"
      },
      "source": [
        "# you can also print variables\n",
        "x ='this is a Sabrina'\n",
        "y= 14\n",
        "print(x,\"who's age is\",y)"
      ],
      "execution_count": null,
      "outputs": [
        {
          "output_type": "stream",
          "name": "stdout",
          "text": [
            "this is a Sabrina who's age is 14\n"
          ]
        }
      ]
    },
    {
      "cell_type": "code",
      "metadata": {
        "id": "bFW0q4WtEZ2w",
        "colab": {
          "base_uri": "https://localhost:8080/",
          "height": 130
        },
        "outputId": "9bbd60d4-1b56-4c26-dfc8-d9d00ea68c7c"
      },
      "source": [
        "# printing more complex variables (dictionary)\n",
        "var= {;'my_age:22,'\n",
        "      'favorite_food':'Taxis',\n",
        "      'school':'Nah'}\n",
        "print(Description of Sabrina)\n"
      ],
      "execution_count": null,
      "outputs": [
        {
          "output_type": "error",
          "ename": "SyntaxError",
          "evalue": "ignored",
          "traceback": [
            "\u001b[0;36m  File \u001b[0;32m\"<ipython-input-9-100f5f3df2c9>\"\u001b[0;36m, line \u001b[0;32m2\u001b[0m\n\u001b[0;31m    var= {;'my_age:22,'\u001b[0m\n\u001b[0m          ^\u001b[0m\n\u001b[0;31mSyntaxError\u001b[0m\u001b[0;31m:\u001b[0m invalid syntax\n"
          ]
        }
      ]
    },
    {
      "cell_type": "markdown",
      "metadata": {
        "id": "fsaDQJtQEZ2w"
      },
      "source": [
        "## Print Keyword Arguments\n",
        "In any programming language, functions can take inputs called arguments. The values that are passed to the print function are called positional arguments, but you can also provide keyword arguments (will be explained more in depth in the Functions Module).\n",
        "\n",
        "**important keyword arguments to know are:**\n",
        "* **objects** - This is what we've been giving the function this whole time, and u can add as many as you like.\n",
        "* **sep** - Inserts a separator between objects. (default is space)\n",
        "* **end** - Specify what to print at the end. (default is a newline '\\n')\n",
        "---------------------------------------------------------------------------------------\n",
        "\n",
        "## Sep argument\n",
        "Inserts a string between values (default is space)"
      ]
    },
    {
      "cell_type": "code",
      "metadata": {
        "id": "5SfWbbwCEZ2x",
        "colab": {
          "base_uri": "https://localhost:8080/"
        },
        "outputId": "eee63921-ba9e-4c8d-8749-23e12305ced5"
      },
      "source": [
        "# you can seperate values in the print function by utilizing the 'sep' argument\n",
        "print(\"Sabrina\", \"14\", \"Raasin\",sep =\": \")"
      ],
      "execution_count": null,
      "outputs": [
        {
          "output_type": "stream",
          "name": "stdout",
          "text": [
            "Sabrina: 14: Raasin\n"
          ]
        }
      ]
    },
    {
      "cell_type": "code",
      "metadata": {
        "id": "-cUOMDXZEZ2x",
        "colab": {
          "base_uri": "https://localhost:8080/"
        },
        "outputId": "43a46ed6-5346-4913-97d8-ff379395ed2c"
      },
      "source": [
        "# anything, including variables, can be used to seperate arguments\n",
        "var=\"  :Sabrina: \"\n",
        "print(1,2,3,4,sep=var)\n"
      ],
      "execution_count": null,
      "outputs": [
        {
          "output_type": "stream",
          "name": "stdout",
          "text": [
            "1  :Sabrina: 2  :Sabrina: 3  :Sabrina: 4\n"
          ]
        }
      ]
    },
    {
      "cell_type": "markdown",
      "metadata": {
        "id": "rWt9Ml5JEZ2y"
      },
      "source": [
        "-------------------------------\n",
        "## End argument\n",
        "Specifies what to print at the end. (default is a newline)\n",
        "\n",
        "**Why use this?**\n",
        "\n",
        "This comes in handy when you want to print information about the state of your program using information that is created at different places in program execution."
      ]
    },
    {
      "cell_type": "code",
      "metadata": {
        "id": "Nbz5_rbUEZ2z",
        "colab": {
          "base_uri": "https://localhost:8080/"
        },
        "outputId": "7ad58833-03e5-4593-f14e-3bbab2020bc5"
      },
      "source": [
        "print(\"This variable was defined after the print statement\", end = \". \")\n",
        "var = [1,2,3,4,5]\n",
        "print(var)"
      ],
      "execution_count": null,
      "outputs": [
        {
          "output_type": "stream",
          "name": "stdout",
          "text": [
            "This variable was defined after the print statement. [1, 2, 3, 4, 5]\n"
          ]
        }
      ]
    },
    {
      "cell_type": "code",
      "metadata": {
        "id": "OdWWiI-bEZ20",
        "colab": {
          "base_uri": "https://localhost:8080/"
        },
        "outputId": "8521b433-3168-48ed-da46-8b8bdb28f778"
      },
      "source": [
        "# print the state of a loop on a single line (you'll learn more about loops in module 2)\n",
        "print(\"Looping...\", end =\" \")\n",
        "# Runs a loop 3 times\n",
        "for i in range(3):\n",
        "  print(\"interation #\", i +1, end= \"-<\", sep =\"\") \n"
      ],
      "execution_count": null,
      "outputs": [
        {
          "output_type": "stream",
          "name": "stdout",
          "text": [
            "Looping... interation #1-<interation #2-<interation #3-<"
          ]
        }
      ]
    },
    {
      "cell_type": "code",
      "metadata": {
        "id": "893ipitRKA7D"
      },
      "source": [
        ""
      ],
      "execution_count": null,
      "outputs": []
    },
    {
      "cell_type": "markdown",
      "metadata": {
        "id": "vfykPzUKEZ20"
      },
      "source": [
        "# Printing to a newline\n",
        "In python, there are special characters called *escape characters* and they allow for 'special' operations on strings. The main one that we will cover in this section is `\\n`. This escape character allows you to display output that is written on a single line, over multiple lines.\n",
        "\n",
        "### Example\n",
        "```python\n",
        "print(\"Hello, my name is: \\nGabe\")\n",
        "\n",
        "#output\n",
        "Hello my name is:\n",
        "Gabe\n",
        "```\n"
      ]
    },
    {
      "cell_type": "code",
      "metadata": {
        "id": "KAnfIEdtKFGz",
        "colab": {
          "base_uri": "https://localhost:8080/"
        },
        "outputId": "a10d8736-411b-482d-9b23-96f4ffe17c85"
      },
      "source": [
        "print(\"I am gabe \\nI am 22\")\n",
        "# print(\"I am 22\")"
      ],
      "execution_count": null,
      "outputs": [
        {
          "output_type": "stream",
          "name": "stdout",
          "text": [
            "I am gabe \n",
            "I am 22\n"
          ]
        }
      ]
    },
    {
      "cell_type": "code",
      "metadata": {
        "id": "GX3fNUPCEZ21",
        "colab": {
          "base_uri": "https://localhost:8080/"
        },
        "outputId": "fda05571-c06e-4e7f-e3e4-ece14e83a536"
      },
      "source": [
        "#TODO Print your name and age on newlines\n",
        "print(\"I am Sabrina \\nI am 14\")"
      ],
      "execution_count": null,
      "outputs": [
        {
          "output_type": "stream",
          "name": "stdout",
          "text": [
            "I am Sabrina \n",
            "I am 14\n"
          ]
        }
      ]
    },
    {
      "cell_type": "code",
      "metadata": {
        "id": "_35h_q66EZ21",
        "colab": {
          "base_uri": "https://localhost:8080/"
        },
        "outputId": "d43c7ef1-ba02-4de0-97dc-a1749137aa4b"
      },
      "source": [
        "#TODO Print washburn and highschool on seperate lines\n",
        "print(\"washburn \\nhighschool\")"
      ],
      "execution_count": null,
      "outputs": [
        {
          "output_type": "stream",
          "name": "stdout",
          "text": [
            "washburn \n",
            "highschool\n"
          ]
        }
      ]
    },
    {
      "cell_type": "code",
      "metadata": {
        "id": "Yw24HGYPEZ22",
        "colab": {
          "base_uri": "https://localhost:8080/"
        },
        "outputId": "d9a06af2-4fe3-4ff0-acca-b38714981918"
      },
      "source": [
        "#TODO\n",
        "print(\"hello \\nMy name is sabrina\")"
      ],
      "execution_count": null,
      "outputs": [
        {
          "output_type": "stream",
          "name": "stdout",
          "text": [
            "hello \n",
            "My name is sabrina\n"
          ]
        }
      ]
    },
    {
      "cell_type": "markdown",
      "metadata": {
        "id": "m2TGHn8uEZ22"
      },
      "source": [
        "-------------------------------\n",
        "## F-strings\n",
        "In python, strings are a type of variable used to represent text. When we pass information to the print function, everything gets converted into strings so that it can be shown on screen. So, whenever a variable gets printed to the screen, it is converted to string object (text).\n",
        "\n",
        "Sometimes we want to print out multiple variables in a single line, and you already learned how to do this by separating the values with commas. \n",
        "\n",
        "```python \n",
        "print(var1, var2, var3)\n",
        "```\n",
        "However, theres a better way we can do this. \n",
        "\n",
        "F-strings, or formatted strings, are strings that get evaluated at runtime so you can give it any variable or expression and python will format it as a single string.\n",
        "\n",
        "<h1 style = \"color: #fa00f4;\"> Creating f-strings</h1>\n",
        "To make a string an f-string, just add an f to the beginning of your string.\n",
        " \n",
        "``` python \n",
        "f\"I am an f-string\"\n",
        "```"
      ]
    },
    {
      "cell_type": "code",
      "metadata": {
        "id": "tkF4SH4yEZ22",
        "colab": {
          "base_uri": "https://localhost:8080/"
        },
        "outputId": "fc38695a-6ca6-4170-b602-eec4ede13777"
      },
      "source": [
        "# this is the trash and ugly way to do it, don't do it in front of your crush\n",
        "name = \"Sabrina\"\n",
        "age = 14\n",
        "normal_string_formatting = \"Hello, %s. You are %s.\" % (name, age)\n",
        "\n",
        "print(normal_string_formatting)"
      ],
      "execution_count": null,
      "outputs": [
        {
          "output_type": "stream",
          "name": "stdout",
          "text": [
            "Hello, Sabrina. You are 14.\n"
          ]
        }
      ]
    },
    {
      "cell_type": "code",
      "metadata": {
        "id": "UabsRm6wEZ22",
        "colab": {
          "base_uri": "https://localhost:8080/"
        },
        "outputId": "391669f8-2f8b-4e77-c946-c0acdbffa74d"
      },
      "source": [
        "# the way to do it when ur trynna impress ur crush\n",
        "name = \"Gabe\"\n",
        "age = 14\n",
        "better_string_formatting = f\"Hello, {name}. You are {age}\"\n",
        "\n",
        "print(better_string_formatting)"
      ],
      "execution_count": null,
      "outputs": [
        {
          "output_type": "stream",
          "name": "stdout",
          "text": [
            "Hello, Gabe. You are 22\n"
          ]
        }
      ]
    },
    {
      "cell_type": "code",
      "metadata": {
        "id": "Ou1lNrH5EZ23"
      },
      "source": [
        ""
      ],
      "execution_count": null,
      "outputs": []
    }
  ]
}