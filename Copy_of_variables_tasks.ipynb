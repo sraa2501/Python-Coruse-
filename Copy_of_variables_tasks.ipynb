{
  "nbformat": 4,
  "nbformat_minor": 0,
  "metadata": {
    "interpreter": {
      "hash": "fd61235da8d855c081cbd5d7c6398e4c179a40a950675235256f7f30499f1124"
    },
    "kernelspec": {
      "display_name": "Python 3.7.4 64-bit ('base': conda)",
      "name": "python3"
    },
    "language_info": {
      "codemirror_mode": {
        "name": "ipython",
        "version": 3
      },
      "file_extension": ".py",
      "mimetype": "text/x-python",
      "name": "python",
      "nbconvert_exporter": "python",
      "pygments_lexer": "ipython3",
      "version": "3.7.4"
    },
    "orig_nbformat": 4,
    "colab": {
      "name": "Copy of variables tasks.ipynb",
      "provenance": [],
      "include_colab_link": true
    }
  },
  "cells": [
    {
      "cell_type": "markdown",
      "metadata": {
        "id": "view-in-github",
        "colab_type": "text"
      },
      "source": [
        "<a href=\"https://colab.research.google.com/github/sraa2501/Python-Coruse-/blob/main/Copy_of_variables_tasks.ipynb\" target=\"_parent\"><img src=\"https://colab.research.google.com/assets/colab-badge.svg\" alt=\"Open In Colab\"/></a>"
      ]
    },
    {
      "cell_type": "markdown",
      "metadata": {
        "id": "QHaa-vDsu53K"
      },
      "source": [
        "# Variable Exercises"
      ]
    },
    {
      "cell_type": "markdown",
      "metadata": {
        "id": "Oxtf-57eu53W"
      },
      "source": [
        "## Task 1\n",
        "<b>Create a numeric variable and print out its memory address</b>\n",
        "\n",
        "***You print memory addresses using the id() function***"
      ]
    },
    {
      "cell_type": "code",
      "metadata": {
        "id": "rw0JOgSmu53X",
        "colab": {
          "base_uri": "https://localhost:8080/"
        },
        "outputId": "1e0536c5-9a7d-4049-d796-4c2c9ed90c70"
      },
      "source": [
        "# Code goes here\n",
        "var = 23 \n",
        "id(23)\n",
        "id(var)"
      ],
      "execution_count": null,
      "outputs": [
        {
          "output_type": "execute_result",
          "data": {
            "text/plain": [
              "93929200880832"
            ]
          },
          "metadata": {},
          "execution_count": 4
        }
      ]
    },
    {
      "cell_type": "markdown",
      "metadata": {
        "id": "_HeqTPs0u53a"
      },
      "source": [
        "## Task 2\n",
        "<b>Create a variable of type string and print out its value, then reassign a value of type float to the same variable and printout its value</b>"
      ]
    },
    {
      "cell_type": "code",
      "metadata": {
        "id": "QUlBcBSD05xx"
      },
      "source": [
        "var = [1,2,3,4]\n",
        "var = \"hello\""
      ],
      "execution_count": null,
      "outputs": []
    },
    {
      "cell_type": "code",
      "metadata": {
        "id": "GbhkrbyBu53b",
        "colab": {
          "base_uri": "https://localhost:8080/"
        },
        "outputId": "466e3aec-11e2-4c43-9a06-cbf452ebf291"
      },
      "source": [
        "# Code goes here\n",
        "var = 'Hello'\n",
        "print(var)\n",
        "var = 14.3 \n",
        "print(var)\n"
      ],
      "execution_count": null,
      "outputs": [
        {
          "output_type": "stream",
          "name": "stdout",
          "text": [
            "Hello\n",
            "14.3\n"
          ]
        }
      ]
    },
    {
      "cell_type": "markdown",
      "metadata": {
        "id": "euYsbTC9u53c"
      },
      "source": [
        "## Task 3\n",
        "<b>Assign values of different types to each of the following variables and print out their types</b>"
      ]
    },
    {
      "cell_type": "code",
      "metadata": {
        "id": "V0akNhBju53c",
        "colab": {
          "base_uri": "https://localhost:8080/"
        },
        "outputId": "d730e801-ff24-479e-fc5f-cf9a8bcfdde0"
      },
      "source": [
        "# Code goes here\n",
        "var1, var2, var3 = 24, \"Sabrina\", {1,2,3,4,5}\n",
        "print(var1, var2, var3) \n"
      ],
      "execution_count": null,
      "outputs": [
        {
          "output_type": "stream",
          "name": "stdout",
          "text": [
            "24 Sabrina {1, 2, 3, 4, 5}\n"
          ]
        }
      ]
    },
    {
      "cell_type": "markdown",
      "metadata": {
        "id": "6z5-0iUcu53e"
      },
      "source": [
        "------------------\n",
        "# String Exercises"
      ]
    },
    {
      "cell_type": "markdown",
      "metadata": {
        "id": "dQ3kr-s7u53f"
      },
      "source": [
        "## Task 1\n",
        "<b>Create a string and print the first character</b>"
      ]
    },
    {
      "cell_type": "code",
      "metadata": {
        "id": "CzFKVO_bu53g",
        "colab": {
          "base_uri": "https://localhost:8080/"
        },
        "outputId": "0abaa027-be56-4e1f-d8ee-9748761cb14c"
      },
      "source": [
        "# Code goes here\n",
        "word = \"Sabrina\" \n",
        "print(word[0])"
      ],
      "execution_count": null,
      "outputs": [
        {
          "output_type": "stream",
          "name": "stdout",
          "text": [
            "S\n"
          ]
        }
      ]
    },
    {
      "cell_type": "markdown",
      "metadata": {
        "id": "539rll0Uu53h"
      },
      "source": [
        "## Task 2\n",
        "<b>In your own words, describe what is meant by an index</b>"
      ]
    },
    {
      "cell_type": "code",
      "metadata": {
        "id": "h7ucyf2Gu53h"
      },
      "source": [
        "# Response goes here\n",
        "# \n",
        "# An index is a numbers representation of iteam place in a sequence "
      ],
      "execution_count": null,
      "outputs": []
    },
    {
      "cell_type": "markdown",
      "metadata": {
        "id": "F25ls2Pfu53i"
      },
      "source": [
        "## Task 3\n",
        "<b>Create a string and print out the last character (without using the len() function)</b>"
      ]
    },
    {
      "cell_type": "code",
      "metadata": {
        "id": "ADOGKxRBu53i",
        "colab": {
          "base_uri": "https://localhost:8080/"
        },
        "outputId": "b27f89d5-3382-4e11-b7ab-3bccd9c6c5af"
      },
      "source": [
        "# Code goes here\n",
        "word = \"Sabrina\" \n",
        "print(word[6])"
      ],
      "execution_count": null,
      "outputs": [
        {
          "output_type": "stream",
          "name": "stdout",
          "text": [
            "a\n"
          ]
        }
      ]
    },
    {
      "cell_type": "markdown",
      "metadata": {
        "id": "sB_lhgIJu53j"
      },
      "source": [
        "## Task 4\n",
        "<b>Create a string and print out the last character using the len() function</b>"
      ]
    },
    {
      "cell_type": "code",
      "metadata": {
        "id": "_t_asLbiu53j",
        "colab": {
          "base_uri": "https://localhost:8080/"
        },
        "outputId": "61e28e5b-1297-4b8b-a451-ab3aadcfe271"
      },
      "source": [
        "# Code goes here\n",
        "word = 'Sabrina'\n",
        "print(len(word))\n"
      ],
      "execution_count": null,
      "outputs": [
        {
          "output_type": "stream",
          "name": "stdout",
          "text": [
            "7\n"
          ]
        }
      ]
    },
    {
      "cell_type": "markdown",
      "metadata": {
        "id": "ux4aTuqSu53k"
      },
      "source": [
        "## Task 5\n",
        "<b> Print the first, middle, and last character of the string, as well as its length</b>"
      ]
    },
    {
      "cell_type": "code",
      "metadata": {
        "id": "1iL-NP6Cu53k",
        "colab": {
          "base_uri": "https://localhost:8080/"
        },
        "outputId": "fc9b9f75-832f-477c-f01d-dd47db40ac16"
      },
      "source": [
        "# Code goes here\n",
        "var = \"Directing\"\n",
        "print(var[0])\n",
        "print(var[4])\n",
        "print(var[8])"
      ],
      "execution_count": null,
      "outputs": [
        {
          "output_type": "stream",
          "name": "stdout",
          "text": [
            "D\n",
            "c\n",
            "g\n"
          ]
        }
      ]
    },
    {
      "cell_type": "markdown",
      "metadata": {
        "id": "TnFmaemGu53l"
      },
      "source": [
        "## Task 6\n",
        "<b> Create two string variables and concatenate (combine) them to create a new variable called message, then print the message.</b>"
      ]
    },
    {
      "cell_type": "code",
      "metadata": {
        "id": "1tcNwhHru53l",
        "colab": {
          "base_uri": "https://localhost:8080/"
        },
        "outputId": "4ffe31e4-4f4a-4cc9-d3a8-4f4fa0d020c7"
      },
      "source": [
        "# Code goes here\n",
        "var1, var2 = \"Hello my name is Sabrina\",\"I am 14\"\n",
        "message = var1 + var2 + \", and Hello my name is Sabrina\",\"I am 14\"\n",
        "print(message)\n"
      ],
      "execution_count": null,
      "outputs": [
        {
          "output_type": "stream",
          "name": "stdout",
          "text": [
            "('Hello my name is SabrinaI am 14, and Hello my name is Sabrina', 'I am 14')\n"
          ]
        }
      ]
    },
    {
      "cell_type": "markdown",
      "metadata": {
        "id": "GSGUPFSDu53m"
      },
      "source": [
        "-------------------\n",
        "# Lists and Tuple Exercises"
      ]
    },
    {
      "cell_type": "markdown",
      "metadata": {
        "id": "sQrcLnCZu53m"
      },
      "source": [
        "## Task 1\n",
        "<b> Create a 5 element list and print out its length</b>"
      ]
    },
    {
      "cell_type": "code",
      "metadata": {
        "id": "cgwmGlwYu53m",
        "colab": {
          "base_uri": "https://localhost:8080/"
        },
        "outputId": "3e6dc8e3-eacb-46c5-d171-7e9ef9e818ce"
      },
      "source": [
        "# Code goes here\n",
        "var = [1,2,3,4,5]\n",
        "print(len(var))"
      ],
      "execution_count": null,
      "outputs": [
        {
          "output_type": "stream",
          "name": "stdout",
          "text": [
            "5\n"
          ]
        }
      ]
    },
    {
      "cell_type": "markdown",
      "metadata": {
        "id": "YN_9IcyFu53n"
      },
      "source": [
        "## Task 2\n",
        "<b> create a 5 element list of integers then print the list. Next, change the first and last elements then print the list</b>"
      ]
    },
    {
      "cell_type": "code",
      "metadata": {
        "id": "wCgMatvYu53q",
        "colab": {
          "base_uri": "https://localhost:8080/"
        },
        "outputId": "09339ba2-5b2a-43f7-d2c9-4c689b1daaf4"
      },
      "source": [
        "# Code goes here\n",
        "var = [1,2,3,4,5]\n",
        "print(f\"List before editing: {var}\")\n",
        "var[2] = 70\n",
        "print(f\"List after editing: {var}\")"
      ],
      "execution_count": null,
      "outputs": [
        {
          "output_type": "stream",
          "name": "stdout",
          "text": [
            "List before editing: [1, 2, 3, 4, 5]\n",
            "List after editing: [1, 2, 70, 4, 5]\n"
          ]
        }
      ]
    },
    {
      "cell_type": "markdown",
      "metadata": {
        "id": "2WQaiLIPu53r"
      },
      "source": [
        "## Task 3\n",
        "<b> create a 3 element list where each element is a diffrent type, then print out the type of each element</b>"
      ]
    },
    {
      "cell_type": "code",
      "metadata": {
        "id": "MhHSjSePu53r",
        "colab": {
          "base_uri": "https://localhost:8080/"
        },
        "outputId": "0e66d436-8ed9-4f72-f8b6-76b8ba655769"
      },
      "source": [
        "# Code goes here\n",
        "var1, var2, var3 = 24, \"Sabrina\", [1,2,3,4,5]\n",
        "l = (var1, var2,var3,)\n",
        "print(f\"First element: {l[0]}\")\n",
        "l[0]\n"
      ],
      "execution_count": null,
      "outputs": [
        {
          "output_type": "stream",
          "name": "stdout",
          "text": [
            "First element: 24\n"
          ]
        },
        {
          "output_type": "execute_result",
          "data": {
            "text/plain": [
              "24"
            ]
          },
          "metadata": {},
          "execution_count": 46
        }
      ]
    },
    {
      "cell_type": "markdown",
      "metadata": {
        "id": "a_uoO8lzu53r"
      },
      "source": [
        "## Task 4\n",
        "<b> Create a 5 element tuple of floats, then print out the middle value</b>"
      ]
    },
    {
      "cell_type": "code",
      "metadata": {
        "id": "M3xhuPObu53s",
        "colab": {
          "base_uri": "https://localhost:8080/"
        },
        "outputId": "ceb3a4eb-a92f-41e0-c476-6433b16219dd"
      },
      "source": [
        "# Code goes here\n",
        "var = (1.5,2.5,3.5,4.5,5.0)\n",
        "print(f\"First element: {var[2]}\")\n"
      ],
      "execution_count": null,
      "outputs": [
        {
          "output_type": "stream",
          "name": "stdout",
          "text": [
            "First element: 3.5\n"
          ]
        }
      ]
    },
    {
      "cell_type": "markdown",
      "metadata": {
        "id": "CKS4RCF2u53s"
      },
      "source": [
        "## Task 5\n",
        "<b>The following code produces an error. Change the data type so that the error gets fixed</b>"
      ]
    },
    {
      "cell_type": "code",
      "metadata": {
        "id": "jX8HSP9Eu53s",
        "colab": {
          "base_uri": "https://localhost:8080/"
        },
        "outputId": "b7b34b94-9d1c-4f7b-fae5-30fa1cdfb54d"
      },
      "source": [
        "# Solution goes here\n",
        "var = ('This', \"is\", \"a\", \"tuple\")\n",
        "var = 'list'\n",
        "print(var)"
      ],
      "execution_count": null,
      "outputs": [
        {
          "output_type": "stream",
          "name": "stdout",
          "text": [
            "list\n"
          ]
        }
      ]
    },
    {
      "cell_type": "markdown",
      "metadata": {
        "id": "RHbI5BgAu53t"
      },
      "source": [
        "## TASK 6\n",
        "**Create a list of numbers then append the values 10, 15, and 20 to the list**"
      ]
    },
    {
      "cell_type": "code",
      "metadata": {
        "id": "P1f4AbTSu53t",
        "colab": {
          "base_uri": "https://localhost:8080/"
        },
        "outputId": "1cb12cf1-ccb3-4c4c-9972-f2f394ae8582"
      },
      "source": [
        "#TODO: \n",
        "var1 = [1,2,3,4,5]\n",
        "var2 = 10, 15,20\n",
        "var1.append([10,15,20])\n",
        "var1"
      ],
      "execution_count": null,
      "outputs": [
        {
          "output_type": "execute_result",
          "data": {
            "text/plain": [
              "[1, 2, 3, 4, 5, [10, 15, 20]]"
            ]
          },
          "metadata": {},
          "execution_count": 53
        }
      ]
    },
    {
      "cell_type": "code",
      "metadata": {
        "id": "jr3pGF_iDNF9"
      },
      "source": [
        ""
      ],
      "execution_count": null,
      "outputs": []
    }
  ]
}